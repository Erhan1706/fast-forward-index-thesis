{
 "cells": [
  {
   "cell_type": "code",
   "execution_count": 1,
   "metadata": {},
   "outputs": [
    {
     "name": "stderr",
     "output_type": "stream",
     "text": [
      "PyTerrier 0.10.1 has loaded Terrier 5.9 (built by craigm on 2024-05-02 17:40) and terrier-helper 0.0.8\n",
      "\n",
      "No etc/terrier.properties, using terrier.default.properties for bootstrap configuration.\n"
     ]
    },
    {
     "data": {
      "text/plain": [
       "True"
      ]
     },
     "execution_count": 1,
     "metadata": {},
     "output_type": "execute_result"
    }
   ],
   "source": [
    "import torch\n",
    "import pyterrier as pt\n",
    "from fast_forward.util.pyterrier import FFInterpolate, FFScore\n",
    "from pyterrier.measures import RR, nDCG, MAP\n",
    "from fast_forward.encoder import TransformerEncoder\n",
    "from fast_forward import OnDiskIndex, Mode\n",
    "from pathlib import Path\n",
    "import pandas as pd\n",
    "\n",
    "if not pt.started():\n",
    "    pt.init(tqdm=\"notebook\")\n",
    "torch.cuda.is_available()"
   ]
  },
  {
   "cell_type": "code",
   "execution_count": 2,
   "metadata": {},
   "outputs": [],
   "source": [
    "dataset = pt.get_dataset(\"irds:beir/scifact/test\")\n",
    "devset= pt.get_dataset(\"irds:beir/scifact/train\")"
   ]
  },
  {
   "cell_type": "code",
   "execution_count": 3,
   "metadata": {},
   "outputs": [
    {
     "name": "stdout",
     "output_type": "stream",
     "text": [
      "11:35:12.202 [main] WARN org.terrier.structures.FSADocumentIndex - This index has fields, but FSADocumentIndex is used (which stores fields lengths on disk); If using field-based models such as BM25F, change to index.document.class in the index  properties file to FSAFieldDocumentIndex or FSADocumentIndexInMemFields to support efficient retrieval. If you don't use (e.g.) BM25F, this warning can be ignored\n"
     ]
    }
   ],
   "source": [
    "bm25 = pt.BatchRetrieve(\"../data/scifact\", wmodel=\"BM25\")"
   ]
  },
  {
   "cell_type": "markdown",
   "metadata": {},
   "source": [
    "## Snowflake-artic-embed"
   ]
  },
  {
   "cell_type": "code",
   "execution_count": 4,
   "metadata": {},
   "outputs": [],
   "source": [
    "class SnowFlakeQueryEncoder(TransformerEncoder):\n",
    "  def __call__(self, texts):\n",
    "    query_prefix = 'Represent this sentence for searching relevant passages: '\n",
    "    queries_with_prefix = [\"{}{}\".format(query_prefix, i) for i in texts]\n",
    "    query_tokens = self.tokenizer(queries_with_prefix, padding=True, truncation=True, return_tensors='pt', max_length=512)\n",
    "\n",
    "    query_tokens.to(self.device)\n",
    "    self.model.eval()\n",
    "\n",
    "    #document_tokens =  self.tokenizer(texts, padding=True, truncation=True, return_tensors='pt', max_length=512)\n",
    "    # Compute token embeddings\n",
    "    with torch.no_grad():\n",
    "        query_embeddings = self.model(**query_tokens)[0][:, 0]\n",
    "        #doument_embeddings = self.model(**document_tokens)[0][:, 0]\n",
    "\n",
    "    # normalize embeddings\n",
    "    query_embeddings = torch.nn.functional.normalize(query_embeddings, p=2, dim=1)\n",
    "    #doument_embeddings = torch.nn.functional.normalize(doument_embeddings, p=2, dim=1)\n",
    "    return query_embeddings.detach().cpu().numpy()"
   ]
  },
  {
   "cell_type": "code",
   "execution_count": 5,
   "metadata": {},
   "outputs": [
    {
     "name": "stderr",
     "output_type": "stream",
     "text": [
      "/home/dodo/.local/lib/python3.8/site-packages/huggingface_hub/file_download.py:1132: FutureWarning: `resume_download` is deprecated and will be removed in version 1.0.0. Downloads always resume when possible. If you want to force a new download, use `force_download=True`.\n",
      "  warnings.warn(\n",
      "Some weights of BertModel were not initialized from the model checkpoint at Snowflake/snowflake-arctic-embed-m and are newly initialized: ['pooler.dense.bias', 'pooler.dense.weight']\n",
      "You should probably TRAIN this model on a down-stream task to be able to use it for predictions and inference.\n",
      "/home/dodo/.local/lib/python3.8/site-packages/huggingface_hub/file_download.py:1132: FutureWarning: `resume_download` is deprecated and will be removed in version 1.0.0. Downloads always resume when possible. If you want to force a new download, use `force_download=True`.\n",
      "  warnings.warn(\n"
     ]
    }
   ],
   "source": [
    "q_encoder_artic = SnowFlakeQueryEncoder('Snowflake/snowflake-arctic-embed-m')"
   ]
  },
  {
   "cell_type": "code",
   "execution_count": 6,
   "metadata": {},
   "outputs": [
    {
     "name": "stderr",
     "output_type": "stream",
     "text": [
      "100%|██████████| 5183/5183 [00:00<00:00, 1100935.77it/s]\n"
     ]
    }
   ],
   "source": [
    "from fast_forward import OnDiskIndex, Mode\n",
    "from pathlib import Path\n",
    "\n",
    "ff_index_artic = OnDiskIndex.load(\n",
    "    Path(\"../datam/ffindex_scifact_snowflake_arctic_embed_m.h5\"), query_encoder=q_encoder_artic, mode=Mode.MAXP\n",
    ")"
   ]
  },
  {
   "cell_type": "code",
   "execution_count": 7,
   "metadata": {},
   "outputs": [],
   "source": [
    "ff_index_artic = ff_index_artic.to_memory()"
   ]
  },
  {
   "cell_type": "code",
   "execution_count": 8,
   "metadata": {},
   "outputs": [],
   "source": [
    "from fast_forward.util.pyterrier import FFScore\n",
    "\n",
    "ff_score_artic = FFScore(ff_index_artic)"
   ]
  },
  {
   "cell_type": "markdown",
   "metadata": {},
   "source": [
    "## BGE"
   ]
  },
  {
   "cell_type": "code",
   "execution_count": 9,
   "metadata": {},
   "outputs": [],
   "source": [
    "class BGEQueryEncoder(TransformerEncoder):\n",
    "  def __call__(self, texts):\n",
    "    encoded_input = self.tokenizer(texts, padding=True, truncation=True, return_tensors='pt')\n",
    "    # for s2p(short query to long passage) retrieval task, add an instruction to query (not add instruction for passages)\n",
    "    # encoded_input = tokenizer([instruction + q for q in queries], padding=True, truncation=True, return_tensors='pt')\n",
    "    encoded_input.to(self.device)\n",
    "\n",
    "    # Compute token embeddings\n",
    "    with torch.no_grad():\n",
    "        model_output = self.model(**encoded_input)\n",
    "        # Perform pooling. In this case, cls pooling.\n",
    "        sentence_embeddings = model_output[0][:, 0]\n",
    "    # normalize embeddings\n",
    "    sentence_embeddings = torch.nn.functional.normalize(sentence_embeddings, p=2, dim=1)\n",
    "    return sentence_embeddings.detach().cpu().numpy()"
   ]
  },
  {
   "cell_type": "code",
   "execution_count": 10,
   "metadata": {},
   "outputs": [],
   "source": [
    "q_encoder_bge = BGEQueryEncoder('BAAI/bge-base-en-v1.5')"
   ]
  },
  {
   "cell_type": "code",
   "execution_count": 11,
   "metadata": {},
   "outputs": [
    {
     "name": "stderr",
     "output_type": "stream",
     "text": [
      "100%|██████████| 5183/5183 [00:00<00:00, 1350588.82it/s]\n"
     ]
    }
   ],
   "source": [
    "from fast_forward import OnDiskIndex, Mode\n",
    "from pathlib import Path\n",
    "\n",
    "ff_index_bge = OnDiskIndex.load(\n",
    "    Path(\"../bge/ffindex_scifact_bge_base_en_v1_5.h5\"), query_encoder=q_encoder_bge, mode=Mode.MAXP\n",
    ")"
   ]
  },
  {
   "cell_type": "code",
   "execution_count": 12,
   "metadata": {},
   "outputs": [],
   "source": [
    "ff_index_bge = ff_index_bge.to_memory()"
   ]
  },
  {
   "cell_type": "code",
   "execution_count": 13,
   "metadata": {},
   "outputs": [],
   "source": [
    "from fast_forward.util.pyterrier import FFScore\n",
    "\n",
    "ff_score_bge = FFScore(ff_index_bge)"
   ]
  },
  {
   "cell_type": "code",
   "execution_count": 14,
   "metadata": {},
   "outputs": [],
   "source": [
    "def normalize_column(df, column_name):\n",
    "    min_val = df[column_name].min()\n",
    "    max_val = df[column_name].max()\n",
    "    df[column_name] = (df[column_name] - min_val) / (max_val-min_val)\n"
   ]
  },
  {
   "cell_type": "code",
   "execution_count": 15,
   "metadata": {},
   "outputs": [],
   "source": [
    "pl_scifact = ~bm25 % 1000 >> FFScore(ff_index_artic)\n",
    "d_artic = pl_scifact.transform(dataset.get_topics())\n",
    "normalize_column(d_artic, \"score\")\n",
    "normalize_column(d_artic, \"score_0\")\n",
    "#d_artic.to_csv(\"artic_scifact_scores_norm.csv\")"
   ]
  },
  {
   "cell_type": "code",
   "execution_count": 16,
   "metadata": {},
   "outputs": [],
   "source": [
    "pl_bge = ~bm25 % 1000 >> ff_score_bge\n",
    "d_bge = pl_bge.transform(dataset.get_topics())\n",
    "normalize_column(d_bge, \"score\")\n",
    "normalize_column(d_bge, \"score_0\")\n",
    "# d_bge.to_csv(\"bge_scifact_scores_norm.csv\")"
   ]
  },
  {
   "cell_type": "code",
   "execution_count": 15,
   "metadata": {},
   "outputs": [],
   "source": [
    "import pandas as pd \n",
    "## This breaks stuff for some reason\n",
    "d_bge = pd.read_csv(\"bge_scifact_scores_norm.csv\", usecols=[1,2,3,4,5])\n",
    "d_artic = pd.read_csv(\"artic_scifact_scores_norm.csv\", usecols=[1,2,3,4,5])"
   ]
  },
  {
   "cell_type": "code",
   "execution_count": 20,
   "metadata": {},
   "outputs": [
    {
     "data": {
      "text/html": [
       "<div>\n",
       "<style scoped>\n",
       "    .dataframe tbody tr th:only-of-type {\n",
       "        vertical-align: middle;\n",
       "    }\n",
       "\n",
       "    .dataframe tbody tr th {\n",
       "        vertical-align: top;\n",
       "    }\n",
       "\n",
       "    .dataframe thead th {\n",
       "        text-align: right;\n",
       "    }\n",
       "</style>\n",
       "<table border=\"1\" class=\"dataframe\">\n",
       "  <thead>\n",
       "    <tr style=\"text-align: right;\">\n",
       "      <th></th>\n",
       "      <th>name</th>\n",
       "      <th>nDCG@10</th>\n",
       "    </tr>\n",
       "  </thead>\n",
       "  <tbody>\n",
       "    <tr>\n",
       "      <th>0</th>\n",
       "      <td>Artic + BGE</td>\n",
       "      <td>0.763907</td>\n",
       "    </tr>\n",
       "  </tbody>\n",
       "</table>\n",
       "</div>"
      ],
      "text/plain": [
       "          name   nDCG@10\n",
       "0  Artic + BGE  0.763907"
      ]
     },
     "execution_count": 20,
     "metadata": {},
     "output_type": "execute_result"
    }
   ],
   "source": [
    "pt.Experiment(\n",
    "      [pt.Transformer.from_df(d_bge) >> FFInterpolate(alpha=0.1)],\n",
    "      dataset.get_topics(),\n",
    "      dataset.get_qrels(),\n",
    "      eval_metrics=[nDCG @ 10],\n",
    "      names=[\"Artic + BGE\"],\n",
    "    )"
   ]
  },
  {
   "cell_type": "code",
   "execution_count": 21,
   "metadata": {},
   "outputs": [
    {
     "data": {
      "text/html": [
       "<div>\n",
       "<style scoped>\n",
       "    .dataframe tbody tr th:only-of-type {\n",
       "        vertical-align: middle;\n",
       "    }\n",
       "\n",
       "    .dataframe tbody tr th {\n",
       "        vertical-align: top;\n",
       "    }\n",
       "\n",
       "    .dataframe thead th {\n",
       "        text-align: right;\n",
       "    }\n",
       "</style>\n",
       "<table border=\"1\" class=\"dataframe\">\n",
       "  <thead>\n",
       "    <tr style=\"text-align: right;\">\n",
       "      <th></th>\n",
       "      <th>name</th>\n",
       "      <th>nDCG@10</th>\n",
       "    </tr>\n",
       "  </thead>\n",
       "  <tbody>\n",
       "    <tr>\n",
       "      <th>0</th>\n",
       "      <td>Artic + BGE</td>\n",
       "      <td>0.767292</td>\n",
       "    </tr>\n",
       "  </tbody>\n",
       "</table>\n",
       "</div>"
      ],
      "text/plain": [
       "          name   nDCG@10\n",
       "0  Artic + BGE  0.767292"
      ]
     },
     "execution_count": 21,
     "metadata": {},
     "output_type": "execute_result"
    }
   ],
   "source": [
    "from fast_forward.util.pyterrier import FFInterpolate\n",
    "\n",
    "\n",
    "pl_artic = pt.Transformer.from_df(d_artic) >> FFInterpolate(alpha=0.1)\n",
    "pl_bge = pt.Transformer.from_df(d_bge) >> FFInterpolate(alpha=0.1)\n",
    "\n",
    "exp = pt.Experiment(\n",
    "      [0.5 * pl_bge + 0.5 * pl_artic],\n",
    "      dataset.get_topics(),\n",
    "      dataset.get_qrels(),\n",
    "      eval_metrics=[nDCG @ 10],\n",
    "      names=[\"Artic + BGE\"],\n",
    "    )\n",
    "\n",
    "exp"
   ]
  },
  {
   "cell_type": "code",
   "execution_count": 17,
   "metadata": {},
   "outputs": [],
   "source": [
    "pl_scifact = ~bm25 % 1000 >> FFScore(ff_index_artic)\n",
    "d_artic_dev = pl_scifact.transform(devset.get_topics())\n",
    "normalize_column(d_artic_dev, \"score\")\n",
    "normalize_column(d_artic_dev, \"score_0\")"
   ]
  },
  {
   "cell_type": "code",
   "execution_count": 11,
   "metadata": {},
   "outputs": [],
   "source": [
    "d_artic_dev.to_csv(\"artic_scifact_scores_dev_norm.csv\")"
   ]
  },
  {
   "cell_type": "code",
   "execution_count": 18,
   "metadata": {},
   "outputs": [],
   "source": [
    "pl_bge = ~bm25 % 1000 >> ff_score_bge\n",
    "d_bge_dev = pl_bge.transform(devset.get_topics())\n",
    "normalize_column(d_bge_dev, \"score\")\n",
    "normalize_column(d_bge_dev, \"score_0\")"
   ]
  },
  {
   "cell_type": "code",
   "execution_count": 18,
   "metadata": {},
   "outputs": [],
   "source": [
    "d_bge_dev.to_csv(\"bge_scifact_scores_dev_norm.csv\")"
   ]
  },
  {
   "cell_type": "markdown",
   "metadata": {},
   "source": [
    "Optimal alpha only for artic"
   ]
  },
  {
   "cell_type": "code",
   "execution_count": 11,
   "metadata": {},
   "outputs": [
    {
     "name": "stdout",
     "output_type": "stream",
     "text": [
      "0.7580980341877859 0.5\n"
     ]
    }
   ],
   "source": [
    "alphas = [0, 0.025, 0.05, 0.1, 0.3, 0.5]\n",
    "max_val = 0\n",
    "optimal_alpha = -1 \n",
    "\n",
    "for alpha in alphas:\n",
    "  exp = pt.Experiment(\n",
    "      [pt.Transformer.from_df(d_artic_dev) >> FFInterpolate(alpha=alpha)],\n",
    "      devset.get_topics(),\n",
    "      devset.get_qrels(),\n",
    "      eval_metrics=[nDCG @ 10],\n",
    "      names=[\"Artic + BGE\"],\n",
    "  )\n",
    "  if exp[\"nDCG@10\"].values[0] > max_val:\n",
    "    max_val = exp[\"nDCG@10\"].values[0]\n",
    "    optimal_alpha = alpha\n",
    "\n",
    "print(max_val, optimal_alpha)"
   ]
  },
  {
   "cell_type": "code",
   "execution_count": 18,
   "metadata": {},
   "outputs": [
    {
     "data": {
      "text/html": [
       "<div>\n",
       "<style scoped>\n",
       "    .dataframe tbody tr th:only-of-type {\n",
       "        vertical-align: middle;\n",
       "    }\n",
       "\n",
       "    .dataframe tbody tr th {\n",
       "        vertical-align: top;\n",
       "    }\n",
       "\n",
       "    .dataframe thead th {\n",
       "        text-align: right;\n",
       "    }\n",
       "</style>\n",
       "<table border=\"1\" class=\"dataframe\">\n",
       "  <thead>\n",
       "    <tr style=\"text-align: right;\">\n",
       "      <th></th>\n",
       "      <th>name</th>\n",
       "      <th>nDCG@10</th>\n",
       "    </tr>\n",
       "  </thead>\n",
       "  <tbody>\n",
       "    <tr>\n",
       "      <th>0</th>\n",
       "      <td>Artic + BGE</td>\n",
       "      <td>0.752191</td>\n",
       "    </tr>\n",
       "  </tbody>\n",
       "</table>\n",
       "</div>"
      ],
      "text/plain": [
       "          name   nDCG@10\n",
       "0  Artic + BGE  0.752191"
      ]
     },
     "execution_count": 18,
     "metadata": {},
     "output_type": "execute_result"
    }
   ],
   "source": [
    "pt.Experiment(\n",
    "      [pt.Transformer.from_df(d_artic) >> FFInterpolate(alpha=0.5)],\n",
    "      dataset.get_topics(),\n",
    "      dataset.get_qrels(),\n",
    "      eval_metrics=[nDCG @ 10],\n",
    "      names=[\"Artic + BGE\"],\n",
    "  )"
   ]
  },
  {
   "cell_type": "markdown",
   "metadata": {},
   "source": [
    "Optimal alpha only for bge"
   ]
  },
  {
   "cell_type": "code",
   "execution_count": 11,
   "metadata": {},
   "outputs": [
    {
     "name": "stdout",
     "output_type": "stream",
     "text": [
      "0.7848686813192597 0.3\n"
     ]
    }
   ],
   "source": [
    "alphas = [0, 0.025, 0.05, 0.1, 0.3, 0.5]\n",
    "max_val = 0\n",
    "optimal_alpha = -1 \n",
    "\n",
    "for alpha in alphas:\n",
    "  exp = pt.Experiment(\n",
    "      [pt.Transformer.from_df(d_bge_dev) >> FFInterpolate(alpha=alpha)],\n",
    "      devset.get_topics(),\n",
    "      devset.get_qrels(),\n",
    "      eval_metrics=[nDCG @ 10],\n",
    "      names=[\"BGE\"],\n",
    "  )\n",
    "  if exp[\"nDCG@10\"].values[0] > max_val:\n",
    "    max_val = exp[\"nDCG@10\"].values[0]\n",
    "    optimal_alpha = alpha\n",
    "\n",
    "print(max_val, optimal_alpha)"
   ]
  },
  {
   "cell_type": "code",
   "execution_count": 16,
   "metadata": {},
   "outputs": [
    {
     "data": {
      "text/html": [
       "<div>\n",
       "<style scoped>\n",
       "    .dataframe tbody tr th:only-of-type {\n",
       "        vertical-align: middle;\n",
       "    }\n",
       "\n",
       "    .dataframe tbody tr th {\n",
       "        vertical-align: top;\n",
       "    }\n",
       "\n",
       "    .dataframe thead th {\n",
       "        text-align: right;\n",
       "    }\n",
       "</style>\n",
       "<table border=\"1\" class=\"dataframe\">\n",
       "  <thead>\n",
       "    <tr style=\"text-align: right;\">\n",
       "      <th></th>\n",
       "      <th>name</th>\n",
       "      <th>nDCG@10</th>\n",
       "    </tr>\n",
       "  </thead>\n",
       "  <tbody>\n",
       "    <tr>\n",
       "      <th>0</th>\n",
       "      <td>BGE</td>\n",
       "      <td>0.769482</td>\n",
       "    </tr>\n",
       "  </tbody>\n",
       "</table>\n",
       "</div>"
      ],
      "text/plain": [
       "  name   nDCG@10\n",
       "0  BGE  0.769482"
      ]
     },
     "execution_count": 16,
     "metadata": {},
     "output_type": "execute_result"
    }
   ],
   "source": [
    "pt.Experiment(\n",
    "      [pt.Transformer.from_df(d_bge) >> FFInterpolate(alpha=optimal_alpha)],\n",
    "      dataset.get_topics(),\n",
    "      dataset.get_qrels(),\n",
    "      eval_metrics=[nDCG @ 10],\n",
    "      names=[\"BGE\"],\n",
    "  )"
   ]
  },
  {
   "cell_type": "markdown",
   "metadata": {},
   "source": [
    "Artic + BGE"
   ]
  },
  {
   "cell_type": "code",
   "execution_count": 43,
   "metadata": {},
   "outputs": [],
   "source": [
    "sc_artic = pt.Transformer.from_df(d_artic)\n",
    "sc_bge = pt.Transformer.from_df(d_bge)"
   ]
  },
  {
   "cell_type": "code",
   "execution_count": 44,
   "metadata": {},
   "outputs": [],
   "source": [
    "sc_artic_dev = pt.Transformer.from_df(d_artic_dev)\n",
    "sc_bge_dev = pt.Transformer.from_df(d_bge_dev)"
   ]
  },
  {
   "cell_type": "code",
   "execution_count": 97,
   "metadata": {},
   "outputs": [
    {
     "data": {
      "text/html": [
       "<div>\n",
       "<style scoped>\n",
       "    .dataframe tbody tr th:only-of-type {\n",
       "        vertical-align: middle;\n",
       "    }\n",
       "\n",
       "    .dataframe tbody tr th {\n",
       "        vertical-align: top;\n",
       "    }\n",
       "\n",
       "    .dataframe thead th {\n",
       "        text-align: right;\n",
       "    }\n",
       "</style>\n",
       "<table border=\"1\" class=\"dataframe\">\n",
       "  <thead>\n",
       "    <tr style=\"text-align: right;\">\n",
       "      <th></th>\n",
       "      <th>name</th>\n",
       "      <th>nDCG@10</th>\n",
       "    </tr>\n",
       "  </thead>\n",
       "  <tbody>\n",
       "    <tr>\n",
       "      <th>0</th>\n",
       "      <td>Artic + BGE</td>\n",
       "      <td>0.787193</td>\n",
       "    </tr>\n",
       "  </tbody>\n",
       "</table>\n",
       "</div>"
      ],
      "text/plain": [
       "          name   nDCG@10\n",
       "0  Artic + BGE  0.787193"
      ]
     },
     "execution_count": 97,
     "metadata": {},
     "output_type": "execute_result"
    }
   ],
   "source": [
    "pt.Experiment(\n",
    "  [0.0025 * ~bm25 + 0.2975 * sc_artic_dev + 0.7 * sc_bge_dev],\n",
    "    devset.get_topics(),\n",
    "    devset.get_qrels(),\n",
    "    eval_metrics=[nDCG @ 10],\n",
    "    names=[\"Artic + BGE\"],\n",
    ")"
   ]
  },
  {
   "cell_type": "code",
   "execution_count": 98,
   "metadata": {},
   "outputs": [
    {
     "data": {
      "text/html": [
       "<div>\n",
       "<style scoped>\n",
       "    .dataframe tbody tr th:only-of-type {\n",
       "        vertical-align: middle;\n",
       "    }\n",
       "\n",
       "    .dataframe tbody tr th {\n",
       "        vertical-align: top;\n",
       "    }\n",
       "\n",
       "    .dataframe thead th {\n",
       "        text-align: right;\n",
       "    }\n",
       "</style>\n",
       "<table border=\"1\" class=\"dataframe\">\n",
       "  <thead>\n",
       "    <tr style=\"text-align: right;\">\n",
       "      <th></th>\n",
       "      <th>name</th>\n",
       "      <th>nDCG@10</th>\n",
       "    </tr>\n",
       "  </thead>\n",
       "  <tbody>\n",
       "    <tr>\n",
       "      <th>0</th>\n",
       "      <td>Artic + BGE</td>\n",
       "      <td>0.768832</td>\n",
       "    </tr>\n",
       "  </tbody>\n",
       "</table>\n",
       "</div>"
      ],
      "text/plain": [
       "          name   nDCG@10\n",
       "0  Artic + BGE  0.768832"
      ]
     },
     "execution_count": 98,
     "metadata": {},
     "output_type": "execute_result"
    }
   ],
   "source": [
    "pt.Experiment(\n",
    "   [0.0025 * ~bm25 + 0.2975  * sc_artic + 0.7 * sc_bge],\n",
    "    dataset.get_topics(),\n",
    "    dataset.get_qrels(),\n",
    "    eval_metrics=[nDCG @ 10],\n",
    "    names=[\"Artic + BGE\"],\n",
    ")"
   ]
  },
  {
   "cell_type": "markdown",
   "metadata": {},
   "source": [
    "## GTE"
   ]
  },
  {
   "cell_type": "code",
   "execution_count": 19,
   "metadata": {},
   "outputs": [],
   "source": [
    "from transformers import AutoModel, AutoTokenizer\n",
    "from pathlib import Path\n",
    "from typing import Callable, Sequence, Union\n",
    "from fast_forward.encoder import Encoder\n",
    "import numpy as np\n",
    "\n",
    "## Need to override TransformerEncoder to include trust_remote_code=True in the \n",
    "## from_pretrained() call since GTE requires it\n",
    "class TransformerEncoder(Encoder):\n",
    "    \"\"\"Uses a pre-trained transformer model for encoding. Returns the pooler output.\"\"\"\n",
    "\n",
    "    def __init__(\n",
    "        self, model: Union[str, Path], device: str = \"cpu\", **tokenizer_args\n",
    "    ) -> None:\n",
    "        \"\"\"Create a transformer encoder.\n",
    "\n",
    "        Args:\n",
    "            model (Union[str, Path]): Pre-trained transformer model (name or path).\n",
    "            device (str, optional): PyTorch device. Defaults to \"cpu\".\n",
    "            **tokenizer_args: Additional tokenizer arguments.\n",
    "        \"\"\"\n",
    "        super().__init__()\n",
    "        self.model = AutoModel.from_pretrained(model, trust_remote_code=True)\n",
    "        self.model.to(device)\n",
    "        self.model.eval()\n",
    "        self.tokenizer = AutoTokenizer.from_pretrained(model)\n",
    "        self.device = device\n",
    "        self.tokenizer_args = tokenizer_args\n",
    "\n",
    "    def __call__(self, texts: Sequence[str]) -> np.ndarray:\n",
    "        inputs = self.tokenizer(texts, return_tensors=\"pt\", **self.tokenizer_args)\n",
    "        inputs.to(self.device)\n",
    "        embeddings = self.model(**inputs).pooler_output.detach().cpu().numpy()\n",
    "        return embeddings\n"
   ]
  },
  {
   "cell_type": "code",
   "execution_count": 20,
   "metadata": {},
   "outputs": [],
   "source": [
    "class GTEQueryEncoder(TransformerEncoder):\n",
    "  def __call__(self, texts):\n",
    "    batch_dict = self.tokenizer(texts, max_length=8192, padding=True, truncation=True, return_tensors='pt')\n",
    "    batch_dict.to(self.device)\n",
    "    \n",
    "    with torch.no_grad():\n",
    "      outputs = self.model(**batch_dict)\n",
    "      embeddings = outputs.last_hidden_state[:, 0]\n",
    "    return embeddings.detach().cpu().numpy()"
   ]
  },
  {
   "cell_type": "code",
   "execution_count": 21,
   "metadata": {},
   "outputs": [
    {
     "name": "stderr",
     "output_type": "stream",
     "text": [
      "/home/dodo/.local/lib/python3.8/site-packages/huggingface_hub/file_download.py:1132: FutureWarning: `resume_download` is deprecated and will be removed in version 1.0.0. Downloads always resume when possible. If you want to force a new download, use `force_download=True`.\n",
      "  warnings.warn(\n"
     ]
    }
   ],
   "source": [
    "q_encoder_gte = GTEQueryEncoder('Alibaba-NLP/gte-base-en-v1.5')"
   ]
  },
  {
   "cell_type": "code",
   "execution_count": 22,
   "metadata": {},
   "outputs": [
    {
     "name": "stderr",
     "output_type": "stream",
     "text": [
      "100%|██████████| 5183/5183 [00:00<00:00, 1547595.76it/s]\n"
     ]
    }
   ],
   "source": [
    "from fast_forward import OnDiskIndex, Mode\n",
    "from pathlib import Path\n",
    "\n",
    "ff_index_gte = OnDiskIndex.load(\n",
    "    Path(\"../gte/ffindex_scifact_gte_base_en_v1_5.h5\"), query_encoder=q_encoder_gte, mode=Mode.MAXP\n",
    ")"
   ]
  },
  {
   "cell_type": "code",
   "execution_count": 23,
   "metadata": {},
   "outputs": [],
   "source": [
    "ff_index_gte = ff_index_gte.to_memory()"
   ]
  },
  {
   "cell_type": "code",
   "execution_count": 24,
   "metadata": {},
   "outputs": [],
   "source": [
    "from fast_forward.util.pyterrier import FFScore\n",
    "\n",
    "ff_score_gte = FFScore(ff_index_gte)"
   ]
  },
  {
   "cell_type": "code",
   "execution_count": 25,
   "metadata": {},
   "outputs": [],
   "source": [
    "pl_gte = ~bm25 % 1000 >> ff_score_gte\n",
    "d_gte = pl_gte.transform(dataset.get_topics())\n",
    "normalize_column(d_gte, \"score\")\n",
    "normalize_column(d_gte, \"score_0\")"
   ]
  },
  {
   "cell_type": "code",
   "execution_count": 12,
   "metadata": {},
   "outputs": [],
   "source": [
    "d_gte.to_csv(\"gte_scifact_scores_norm.csv\")"
   ]
  },
  {
   "cell_type": "code",
   "execution_count": 26,
   "metadata": {},
   "outputs": [],
   "source": [
    "d_gte_dev = pl_gte.transform(devset.get_topics())\n",
    "normalize_column(d_gte_dev, \"score\")\n",
    "normalize_column(d_gte_dev, \"score_0\")"
   ]
  },
  {
   "cell_type": "code",
   "execution_count": 14,
   "metadata": {},
   "outputs": [],
   "source": [
    "d_gte_dev.to_csv(\"gte_scifact_scores_dev_norm.csv\")"
   ]
  },
  {
   "cell_type": "code",
   "execution_count": 27,
   "metadata": {},
   "outputs": [
    {
     "name": "stdout",
     "output_type": "stream",
     "text": [
      "0.7638777927277236 0.5\n"
     ]
    }
   ],
   "source": [
    "alphas = [0, 0.025, 0.05, 0.1, 0.3, 0.5]\n",
    "max_val = 0\n",
    "optimal_alpha = -1 \n",
    "\n",
    "for alpha in alphas:\n",
    "  exp = pt.Experiment(\n",
    "      [pt.Transformer.from_df(d_gte_dev) >> FFInterpolate(alpha=alpha)],\n",
    "      devset.get_topics(),\n",
    "      devset.get_qrels(),\n",
    "      eval_metrics=[nDCG @ 10],\n",
    "      names=[\"GTE\"],\n",
    "  )\n",
    "  if exp[\"nDCG@10\"].values[0] > max_val:\n",
    "    max_val = exp[\"nDCG@10\"].values[0]\n",
    "    optimal_alpha = alpha\n",
    "\n",
    "print(max_val, optimal_alpha)"
   ]
  },
  {
   "cell_type": "code",
   "execution_count": 28,
   "metadata": {},
   "outputs": [
    {
     "data": {
      "text/html": [
       "<div>\n",
       "<style scoped>\n",
       "    .dataframe tbody tr th:only-of-type {\n",
       "        vertical-align: middle;\n",
       "    }\n",
       "\n",
       "    .dataframe tbody tr th {\n",
       "        vertical-align: top;\n",
       "    }\n",
       "\n",
       "    .dataframe thead th {\n",
       "        text-align: right;\n",
       "    }\n",
       "</style>\n",
       "<table border=\"1\" class=\"dataframe\">\n",
       "  <thead>\n",
       "    <tr style=\"text-align: right;\">\n",
       "      <th></th>\n",
       "      <th>name</th>\n",
       "      <th>nDCG@10</th>\n",
       "    </tr>\n",
       "  </thead>\n",
       "  <tbody>\n",
       "    <tr>\n",
       "      <th>0</th>\n",
       "      <td>GTE</td>\n",
       "      <td>0.76938</td>\n",
       "    </tr>\n",
       "  </tbody>\n",
       "</table>\n",
       "</div>"
      ],
      "text/plain": [
       "  name  nDCG@10\n",
       "0  GTE  0.76938"
      ]
     },
     "execution_count": 28,
     "metadata": {},
     "output_type": "execute_result"
    }
   ],
   "source": [
    "pt.Experiment(\n",
    "      [pt.Transformer.from_df(d_gte) >> FFInterpolate(alpha=optimal_alpha)],\n",
    "      dataset.get_topics(),\n",
    "      dataset.get_qrels(),\n",
    "      eval_metrics=[nDCG @ 10],\n",
    "      names=[\"GTE\"],\n",
    "  )"
   ]
  },
  {
   "cell_type": "markdown",
   "metadata": {},
   "source": [
    "## Artic + BGE + GTE"
   ]
  },
  {
   "cell_type": "code",
   "execution_count": 27,
   "metadata": {},
   "outputs": [],
   "source": [
    "\n",
    "sc_artic = pt.Transformer.from_df(d_artic)\n",
    "sc_bge = pt.Transformer.from_df(d_bge)\n",
    "sc_artic_dev = pt.Transformer.from_df(d_artic_dev)\n",
    "sc_bge_dev = pt.Transformer.from_df(d_bge_dev)"
   ]
  },
  {
   "cell_type": "code",
   "execution_count": 28,
   "metadata": {},
   "outputs": [],
   "source": [
    "sc_gte = pt.Transformer.from_df(d_gte)\n",
    "sc_gte_dev = pt.Transformer.from_df(d_gte_dev)"
   ]
  },
  {
   "cell_type": "code",
   "execution_count": 64,
   "metadata": {},
   "outputs": [],
   "source": [
    "sparse_dev = bm25.transform(devset.get_topics())\n",
    "sparse = bm25.transform(dataset.get_topics())"
   ]
  },
  {
   "cell_type": "code",
   "execution_count": 6,
   "metadata": {},
   "outputs": [],
   "source": [
    "sparse = pd.read_csv(\"scifact_bm25.csv\")\n",
    "sparse_dev = pd.read_csv(\"scifact_bm25_dev.csv\")\n"
   ]
  },
  {
   "cell_type": "code",
   "execution_count": 67,
   "metadata": {},
   "outputs": [],
   "source": [
    "sc_sparse_dev = pt.Transformer.from_df(sparse_dev)\n",
    "sc_sparse = pt.Transformer.from_df(sparse)"
   ]
  },
  {
   "cell_type": "code",
   "execution_count": 80,
   "metadata": {},
   "outputs": [
    {
     "data": {
      "text/html": [
       "<div>\n",
       "<style scoped>\n",
       "    .dataframe tbody tr th:only-of-type {\n",
       "        vertical-align: middle;\n",
       "    }\n",
       "\n",
       "    .dataframe tbody tr th {\n",
       "        vertical-align: top;\n",
       "    }\n",
       "\n",
       "    .dataframe thead th {\n",
       "        text-align: right;\n",
       "    }\n",
       "</style>\n",
       "<table border=\"1\" class=\"dataframe\">\n",
       "  <thead>\n",
       "    <tr style=\"text-align: right;\">\n",
       "      <th></th>\n",
       "      <th>name</th>\n",
       "      <th>nDCG@10</th>\n",
       "    </tr>\n",
       "  </thead>\n",
       "  <tbody>\n",
       "    <tr>\n",
       "      <th>0</th>\n",
       "      <td>Artic + BGE + GTE</td>\n",
       "      <td>0.794025</td>\n",
       "    </tr>\n",
       "  </tbody>\n",
       "</table>\n",
       "</div>"
      ],
      "text/plain": [
       "                name   nDCG@10\n",
       "0  Artic + BGE + GTE  0.794025"
      ]
     },
     "execution_count": 80,
     "metadata": {},
     "output_type": "execute_result"
    }
   ],
   "source": [
    "pt.Experiment(\n",
    "      [0.0025 * ~bm25 + 0.1975 * sc_artic_dev + 0.5 * sc_bge_dev + 0.3 * sc_gte_dev],\n",
    "      devset.get_topics(),\n",
    "      devset.get_qrels(),\n",
    "      eval_metrics=[nDCG @ 10],\n",
    "      names=[\"Artic + BGE + GTE\"],\n",
    "  )"
   ]
  },
  {
   "cell_type": "code",
   "execution_count": 81,
   "metadata": {},
   "outputs": [
    {
     "data": {
      "text/html": [
       "<div>\n",
       "<style scoped>\n",
       "    .dataframe tbody tr th:only-of-type {\n",
       "        vertical-align: middle;\n",
       "    }\n",
       "\n",
       "    .dataframe tbody tr th {\n",
       "        vertical-align: top;\n",
       "    }\n",
       "\n",
       "    .dataframe thead th {\n",
       "        text-align: right;\n",
       "    }\n",
       "</style>\n",
       "<table border=\"1\" class=\"dataframe\">\n",
       "  <thead>\n",
       "    <tr style=\"text-align: right;\">\n",
       "      <th></th>\n",
       "      <th>name</th>\n",
       "      <th>nDCG@10</th>\n",
       "    </tr>\n",
       "  </thead>\n",
       "  <tbody>\n",
       "    <tr>\n",
       "      <th>0</th>\n",
       "      <td>Artic + BGE + GTE</td>\n",
       "      <td>0.776488</td>\n",
       "    </tr>\n",
       "  </tbody>\n",
       "</table>\n",
       "</div>"
      ],
      "text/plain": [
       "                name   nDCG@10\n",
       "0  Artic + BGE + GTE  0.776488"
      ]
     },
     "execution_count": 81,
     "metadata": {},
     "output_type": "execute_result"
    }
   ],
   "source": [
    "pt.Experiment(\n",
    "      [0.0025 * ~bm25 +  0.1975 * sc_artic + 0.5 * sc_bge + 0.3 * sc_gte],\n",
    "      dataset.get_topics(),\n",
    "      dataset.get_qrels(),\n",
    "      eval_metrics=[nDCG @ 10],\n",
    "      names=[\"Artic + BGE + GTE\"],\n",
    "  )"
   ]
  },
  {
   "cell_type": "markdown",
   "metadata": {},
   "source": [
    "## Artic + GTE"
   ]
  },
  {
   "cell_type": "code",
   "execution_count": 42,
   "metadata": {},
   "outputs": [
    {
     "data": {
      "text/html": [
       "<div>\n",
       "<style scoped>\n",
       "    .dataframe tbody tr th:only-of-type {\n",
       "        vertical-align: middle;\n",
       "    }\n",
       "\n",
       "    .dataframe tbody tr th {\n",
       "        vertical-align: top;\n",
       "    }\n",
       "\n",
       "    .dataframe thead th {\n",
       "        text-align: right;\n",
       "    }\n",
       "</style>\n",
       "<table border=\"1\" class=\"dataframe\">\n",
       "  <thead>\n",
       "    <tr style=\"text-align: right;\">\n",
       "      <th></th>\n",
       "      <th>name</th>\n",
       "      <th>nDCG@10</th>\n",
       "    </tr>\n",
       "  </thead>\n",
       "  <tbody>\n",
       "    <tr>\n",
       "      <th>0</th>\n",
       "      <td>Artic + GTE</td>\n",
       "      <td>0.775759</td>\n",
       "    </tr>\n",
       "  </tbody>\n",
       "</table>\n",
       "</div>"
      ],
      "text/plain": [
       "          name   nDCG@10\n",
       "0  Artic + GTE  0.775759"
      ]
     },
     "execution_count": 42,
     "metadata": {},
     "output_type": "execute_result"
    }
   ],
   "source": [
    "\n",
    "pt.Experiment(\n",
    "      [0.0025 * ~bm25 + 0.3975 * sc_artic_dev + 0.6 * sc_gte_dev],\n",
    "      devset.get_topics(),\n",
    "      devset.get_qrels(),\n",
    "      eval_metrics=[nDCG @ 10],\n",
    "      names=[\"Artic + GTE\"],\n",
    "  )"
   ]
  },
  {
   "cell_type": "code",
   "execution_count": 41,
   "metadata": {},
   "outputs": [
    {
     "data": {
      "text/html": [
       "<div>\n",
       "<style scoped>\n",
       "    .dataframe tbody tr th:only-of-type {\n",
       "        vertical-align: middle;\n",
       "    }\n",
       "\n",
       "    .dataframe tbody tr th {\n",
       "        vertical-align: top;\n",
       "    }\n",
       "\n",
       "    .dataframe thead th {\n",
       "        text-align: right;\n",
       "    }\n",
       "</style>\n",
       "<table border=\"1\" class=\"dataframe\">\n",
       "  <thead>\n",
       "    <tr style=\"text-align: right;\">\n",
       "      <th></th>\n",
       "      <th>name</th>\n",
       "      <th>nDCG@10</th>\n",
       "    </tr>\n",
       "  </thead>\n",
       "  <tbody>\n",
       "    <tr>\n",
       "      <th>0</th>\n",
       "      <td>Artic + GTE</td>\n",
       "      <td>0.775692</td>\n",
       "    </tr>\n",
       "  </tbody>\n",
       "</table>\n",
       "</div>"
      ],
      "text/plain": [
       "          name   nDCG@10\n",
       "0  Artic + GTE  0.775692"
      ]
     },
     "execution_count": 41,
     "metadata": {},
     "output_type": "execute_result"
    }
   ],
   "source": [
    "pt.Experiment(\n",
    "      [0.0025 * ~bm25 + 0.3975 * sc_artic + 0.6 * sc_gte],\n",
    "      dataset.get_topics(),\n",
    "      dataset.get_qrels(),\n",
    "      eval_metrics=[nDCG @ 10],\n",
    "      names=[\"Artic + GTE\"],\n",
    "  )"
   ]
  },
  {
   "cell_type": "markdown",
   "metadata": {},
   "source": [
    "## BGE + GTE"
   ]
  },
  {
   "cell_type": "code",
   "execution_count": 62,
   "metadata": {},
   "outputs": [
    {
     "data": {
      "text/html": [
       "<div>\n",
       "<style scoped>\n",
       "    .dataframe tbody tr th:only-of-type {\n",
       "        vertical-align: middle;\n",
       "    }\n",
       "\n",
       "    .dataframe tbody tr th {\n",
       "        vertical-align: top;\n",
       "    }\n",
       "\n",
       "    .dataframe thead th {\n",
       "        text-align: right;\n",
       "    }\n",
       "</style>\n",
       "<table border=\"1\" class=\"dataframe\">\n",
       "  <thead>\n",
       "    <tr style=\"text-align: right;\">\n",
       "      <th></th>\n",
       "      <th>name</th>\n",
       "      <th>nDCG@10</th>\n",
       "    </tr>\n",
       "  </thead>\n",
       "  <tbody>\n",
       "    <tr>\n",
       "      <th>0</th>\n",
       "      <td>BGE + GTE</td>\n",
       "      <td>0.791285</td>\n",
       "    </tr>\n",
       "  </tbody>\n",
       "</table>\n",
       "</div>"
      ],
      "text/plain": [
       "        name   nDCG@10\n",
       "0  BGE + GTE  0.791285"
      ]
     },
     "execution_count": 62,
     "metadata": {},
     "output_type": "execute_result"
    }
   ],
   "source": [
    "pt.Experiment(\n",
    "      [0.0025 * ~bm25 + 0.7 * sc_bge_dev + 0.2975  * sc_gte_dev],\n",
    "      devset.get_topics(),\n",
    "      devset.get_qrels(),\n",
    "      eval_metrics=[nDCG @ 10],\n",
    "      names=[\"BGE + GTE\"],\n",
    "  )"
   ]
  },
  {
   "cell_type": "code",
   "execution_count": 63,
   "metadata": {},
   "outputs": [
    {
     "data": {
      "text/html": [
       "<div>\n",
       "<style scoped>\n",
       "    .dataframe tbody tr th:only-of-type {\n",
       "        vertical-align: middle;\n",
       "    }\n",
       "\n",
       "    .dataframe tbody tr th {\n",
       "        vertical-align: top;\n",
       "    }\n",
       "\n",
       "    .dataframe thead th {\n",
       "        text-align: right;\n",
       "    }\n",
       "</style>\n",
       "<table border=\"1\" class=\"dataframe\">\n",
       "  <thead>\n",
       "    <tr style=\"text-align: right;\">\n",
       "      <th></th>\n",
       "      <th>name</th>\n",
       "      <th>nDCG@10</th>\n",
       "    </tr>\n",
       "  </thead>\n",
       "  <tbody>\n",
       "    <tr>\n",
       "      <th>0</th>\n",
       "      <td>BGE + GTE</td>\n",
       "      <td>0.779082</td>\n",
       "    </tr>\n",
       "  </tbody>\n",
       "</table>\n",
       "</div>"
      ],
      "text/plain": [
       "        name   nDCG@10\n",
       "0  BGE + GTE  0.779082"
      ]
     },
     "execution_count": 63,
     "metadata": {},
     "output_type": "execute_result"
    }
   ],
   "source": [
    "pt.Experiment(\n",
    "      [0.0025 * ~bm25 + 0.7 * sc_bge + 0.2975 * sc_gte],\n",
    "      dataset.get_topics(),\n",
    "      dataset.get_qrels(),\n",
    "      eval_metrics=[nDCG @ 10],\n",
    "      names=[\"BGE + GTE\"],\n",
    "  )"
   ]
  }
 ],
 "metadata": {
  "kernelspec": {
   "display_name": "Python 3",
   "language": "python",
   "name": "python3"
  },
  "language_info": {
   "codemirror_mode": {
    "name": "ipython",
    "version": 3
   },
   "file_extension": ".py",
   "mimetype": "text/x-python",
   "name": "python",
   "nbconvert_exporter": "python",
   "pygments_lexer": "ipython3",
   "version": "3.8.10"
  }
 },
 "nbformat": 4,
 "nbformat_minor": 2
}
